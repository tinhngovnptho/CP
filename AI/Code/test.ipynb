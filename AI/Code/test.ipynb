{
  "nbformat": 4,
  "nbformat_minor": 0,
  "metadata": {
    "colab": {
      "provenance": [],
      "gpuType": "T4",
      "authorship_tag": "ABX9TyOY4/vjtNSnXXZCsa0wUYFk",
      "include_colab_link": true
    },
    "kernelspec": {
      "name": "python3",
      "display_name": "Python 3"
    },
    "language_info": {
      "name": "python"
    },
    "accelerator": "GPU"
  },
  "cells": [
    {
      "cell_type": "markdown",
      "metadata": {
        "id": "view-in-github",
        "colab_type": "text"
      },
      "source": [
        "<a href=\"https://colab.research.google.com/github/tinhngovnptho/CP/blob/main/AI/Code/test.ipynb\" target=\"_parent\"><img src=\"https://colab.research.google.com/assets/colab-badge.svg\" alt=\"Open In Colab\"/></a>"
      ]
    },
    {
      "cell_type": "code",
      "source": [
        "import tensorflow as tf\n",
        "import pandas as pd\n",
        "import numpy as np\n",
        "\n",
        "\n",
        "url = \"https://raw.githubusercontent.com/tinhngovnptho/CP/refs/heads/main/AI/Data_AI_Train/\"\n",
        "\n",
        "\n",
        "df = pd.read_csv(url + \"baitap.csv\")"
      ],
      "metadata": {
        "id": "iAmngU8cOFrM"
      },
      "execution_count": 10,
      "outputs": []
    }
  ]
}